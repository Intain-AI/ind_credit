{
 "metadata": {
  "language_info": {
   "codemirror_mode": {
    "name": "ipython",
    "version": 3
   },
   "file_extension": ".py",
   "mimetype": "text/x-python",
   "name": "python",
   "nbconvert_exporter": "python",
   "pygments_lexer": "ipython3",
   "version": "3.6.9"
  },
  "orig_nbformat": 2,
  "kernelspec": {
   "name": "pythonjvsc74a57bd070c9c91f8a82f2752fffdae22d5a37d9dd39c3d8387eaa47156ae7fb4032a585",
   "display_name": "Python 3.6.9  ('docelement': conda)"
  },
  "metadata": {
   "interpreter": {
    "hash": "70c9c91f8a82f2752fffdae22d5a37d9dd39c3d8387eaa47156ae7fb4032a585"
   }
  }
 },
 "nbformat": 4,
 "nbformat_minor": 2,
 "cells": [
  {
   "cell_type": "code",
   "execution_count": null,
   "metadata": {},
   "outputs": [],
   "source": []
  }
 ]
}