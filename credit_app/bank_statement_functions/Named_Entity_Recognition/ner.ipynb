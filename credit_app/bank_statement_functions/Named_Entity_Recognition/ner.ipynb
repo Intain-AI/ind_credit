{
 "metadata": {
  "language_info": {
   "codemirror_mode": {
    "name": "ipython",
    "version": 3
   },
   "file_extension": ".py",
   "mimetype": "text/x-python",
   "name": "python",
   "nbconvert_exporter": "python",
   "pygments_lexer": "ipython3",
   "version": "3.6.9"
  },
  "orig_nbformat": 2,
  "kernelspec": {
   "name": "pythonjvsc74a57bd070c9c91f8a82f2752fffdae22d5a37d9dd39c3d8387eaa47156ae7fb4032a585",
   "display_name": "Python 3.6.9  ('docelement': conda)"
  },
  "metadata": {
   "interpreter": {
    "hash": "70c9c91f8a82f2752fffdae22d5a37d9dd39c3d8387eaa47156ae7fb4032a585"
   }
  }
 },
 "nbformat": 4,
 "nbformat_minor": 2,
 "cells": [
  {
   "cell_type": "code",
   "execution_count": 3,
   "metadata": {},
   "outputs": [],
   "source": [
    "import datefinder\n",
    "import re"
   ]
  },
  {
   "cell_type": "code",
   "execution_count": 4,
   "metadata": {},
   "outputs": [],
   "source": [
    "def correct_date(date_string):\n",
    "    try:\n",
    "        matches = datefinder.find_dates(date_string)         \n",
    "        match=list(matches)\n",
    "        print(match)\n",
    "        # print(match[0].strftime(\"%Y-%m-%d\"))   \n",
    "        return (match[0].strftime(\"%Y-%m-%d\"))\n",
    "    except:\n",
    "        return 'NA'"
   ]
  },
  {
   "cell_type": "code",
   "execution_count": 14,
   "metadata": {},
   "outputs": [],
   "source": [
    "text=\"open date 01 /12 /2020 account status regular rtgs /neft ifsc hdfc0000742 micr 518240002 branch code 742 product code 200 mr molagavalli raghava reddy flat number 101 pavan residency alankar plaza - k\""
   ]
  },
  {
   "cell_type": "code",
   "execution_count": 2,
   "metadata": {},
   "outputs": [],
   "source": [
    "account_opening_date_list=['account statement','transaction period','transaction date']\n"
   ]
  },
  {
   "cell_type": "code",
   "execution_count": 8,
   "metadata": {},
   "outputs": [
    {
     "output_type": "stream",
     "name": "stdout",
     "text": [
      "foundddd\n542 558 (542, 558)\n"
     ]
    }
   ],
   "source": [
    "for element in account_opening_date_list:\n",
    "    # print(\"account opening date\",element)\n",
    "    z = re.search(element, text)\n",
    "    if z:\n",
    "        print(\"foundddd\")\n",
    "        print(z.start(),z.end(),z.span())"
   ]
  },
  {
   "cell_type": "code",
   "execution_count": null,
   "metadata": {},
   "outputs": [],
   "source": []
  },
  {
   "cell_type": "code",
   "execution_count": 15,
   "metadata": {},
   "outputs": [],
   "source": [
    "date_regex=r'\\d{2}\\s{0,3}[/-]\\s{0,3}\\d{2}\\s{0,3}[/-]\\s{0,3}\\d{2,4}'"
   ]
  },
  {
   "cell_type": "code",
   "execution_count": 10,
   "metadata": {},
   "outputs": [
    {
     "output_type": "stream",
     "name": "stdout",
     "text": [
      "jan|feb|mar|apr|may|jun|jul|aug|sep|oct|nov|dec|march|january|february|september\n"
     ]
    }
   ],
   "source": [
    "months=['jan','feb','mar','apr','may','jun','jul','aug','sep','oct','nov','dec','march','january','february','september']\n",
    "month_string='|'.join(months)\n",
    "print(month_string)"
   ]
  },
  {
   "cell_type": "code",
   "execution_count": 31,
   "metadata": {},
   "outputs": [],
   "source": [
    "if i!=-1:\n",
    "    date_text=text[i:i+200]\n",
    "    # date=correct_date(text[i:i+200])\n",
    "    month_list=re.findall(month_string,text[i:i+200].lower())\n",
    "    # print(\"*******month list\",month_list,text[i:i+200].lower())\n",
    "    if month_list and dict_bank['ac_open_date']=='NA':\n",
    "        for j in month_list:\n",
    "            if dict_bank['ac_open_date']=='NA':\n",
    "                dates=words[words.index(month_list[j])-1:words.index(month_list[j])+2]\n",
    "                print(dates)\n",
    "                dict_bank['ac_open_date']=' '.join(dates)\n",
    "    if dict_bank['ac_open_date']=='NA':\n",
    "        date_search=re.findall(date_regex,date_text)\n",
    "        if date_search:\n",
    "            dict_bank['ac_open_date']=date_search[0]\n"
   ]
  },
  {
   "cell_type": "code",
   "execution_count": 23,
   "metadata": {},
   "outputs": [],
   "source": [
    "import re"
   ]
  },
  {
   "cell_type": "code",
   "execution_count": 16,
   "metadata": {},
   "outputs": [
    {
     "output_type": "execute_result",
     "data": {
      "text/plain": [
       "['01 /12 /2020']"
      ]
     },
     "metadata": {},
     "execution_count": 16
    }
   ],
   "source": [
    "\n",
    "re.findall(date_regex,text)\n"
   ]
  },
  {
   "cell_type": "code",
   "execution_count": 20,
   "metadata": {},
   "outputs": [],
   "source": [
    "date_text=text[i:i+200]"
   ]
  },
  {
   "cell_type": "code",
   "execution_count": 28,
   "metadata": {},
   "outputs": [
    {
     "output_type": "execute_result",
     "data": {
      "text/plain": [
       "['01/12/2019', '21/03/2020']"
      ]
     },
     "metadata": {},
     "execution_count": 28
    }
   ],
   "source": [
    "date_search"
   ]
  },
  {
   "cell_type": "code",
   "execution_count": 21,
   "metadata": {},
   "outputs": [
    {
     "output_type": "execute_result",
     "data": {
      "text/plain": [
       "'account statement page no 1 transaction period 01/12/2019 to 21/03/2020 branch code 1905 branch name bahadurgarh branch address 15a ward no 21 plot no 4 guru nanak colony bahadurgarh jhajjar haryana b'"
      ]
     },
     "metadata": {},
     "execution_count": 21
    }
   ],
   "source": [
    "date_text"
   ]
  },
  {
   "source": [
    "text=\"account statement page no 1 transaction period 01/12/2019 to 21/03/2020 branch code 1905 branch name bahadurgarh branch address 15a ward no 21 plot no 4 guru nanak colony bahadurgarh jhajjar haryana bahadurgarh haryana - 124507 branch phone no 6290919052 branch email id ifsc bdbl0001905 micr code 110750024 branch gstin 06aagcb1323g1z7 customer number 180002687420 account number 50180024860514 product type sb sanchay - 2000 mab account type mab/ qab 2 000 00 email id racrahul4 gmail com nominee registration yes name rahul address s/o mukesh kumar 209/1 vikas nagar par dist jhajjar bahadurgarh-124507 haryana india joint holders na closing balance 103 35 opening balance 1 308 10 sat 21 mar 2020 22 15 00 ist \""
   ],
   "cell_type": "code",
   "metadata": {},
   "execution_count": 33,
   "outputs": []
  },
  {
   "cell_type": "code",
   "execution_count": 34,
   "metadata": {},
   "outputs": [],
   "source": [
    "words=text.split()"
   ]
  },
  {
   "cell_type": "code",
   "execution_count": 35,
   "metadata": {},
   "outputs": [
    {
     "output_type": "stream",
     "name": "stdout",
     "text": [
      "0 account\n1 statement\n2 page\n3 no\n4 1\n5 transaction\n6 period\n7 01/12/2019\n8 to\n9 21/03/2020\n10 branch\n11 code\n12 1905\n13 branch\n14 name\n15 bahadurgarh\n16 branch\n17 address\n18 15a\n19 ward\n20 no\n21 21\n22 plot\n23 no\n24 4\n25 guru\n26 nanak\n27 colony\n28 bahadurgarh\n29 jhajjar\n30 haryana\n31 bahadurgarh\n32 haryana\n33 -\n34 124507\n35 branch\n36 phone\n37 no\n38 6290919052\n39 branch\n40 email\n41 id\n42 ifsc\n43 bdbl0001905\n44 micr\n45 code\n46 110750024\n47 branch\n48 gstin\n49 06aagcb1323g1z7\n50 customer\n51 number\n52 180002687420\n53 account\n54 number\n55 50180024860514\n56 product\n57 type\n58 sb\n59 sanchay\n60 -\n61 2000\n62 mab\n63 account\n64 type\n65 mab/\n66 qab\n67 2\n68 000\n69 00\n70 email\n71 id\n72 racrahul4\n73 gmail\n74 com\n75 nominee\n76 registration\n77 yes\n78 name\n79 rahul\n80 address\n81 s/o\n82 mukesh\n83 kumar\n84 209/1\n85 vikas\n86 nagar\n87 par\n88 dist\n89 jhajjar\n90 bahadurgarh-124507\n91 haryana\n92 india\n93 joint\n94 holders\n95 na\n96 closing\n97 balance\n98 103\n99 35\n100 opening\n101 balance\n102 1\n103 308\n104 10\n105 sat\n106 21\n107 mar\n108 2020\n109 22\n110 15\n111 00\n112 ist\n"
     ]
    }
   ],
   "source": [
    "for index,word in enumerate(words):\n",
    "    print(index,word)"
   ]
  },
  {
   "cell_type": "code",
   "execution_count": null,
   "metadata": {},
   "outputs": [],
   "source": []
  }
 ]
}