{
 "cells": [
  {
   "cell_type": "code",
   "execution_count": 2,
   "metadata": {},
   "outputs": [],
   "source": [
    "import pandas as pd\n",
    "import numpy as np\n",
    "import re"
   ]
  },
  {
   "cell_type": "code",
   "execution_count": 3,
   "metadata": {
    "scrolled": true
   },
   "outputs": [],
   "source": [
    "df=pd.read_excel(\"1_bank_statement.xlsx\",sheet_name=\"transaction_data\")"
   ]
  },
  {
   "cell_type": "code",
   "execution_count": 4,
   "metadata": {},
   "outputs": [
    {
     "data": {
      "text/plain": [
       "Index(['Date', 'Description', 'Chq./Ref.No.', 'Value Date', 'Debit', 'Credit',\n",
       "       'Balance'],\n",
       "      dtype='object')"
      ]
     },
     "execution_count": 4,
     "metadata": {},
     "output_type": "execute_result"
    }
   ],
   "source": [
    "df.columns"
   ]
  },
  {
   "cell_type": "code",
   "execution_count": 5,
   "metadata": {},
   "outputs": [],
   "source": [
    "df['Balance'] = df['Balance'].apply(lambda x:re.sub('[^0-9.]','',x))\n",
    "df['Balance'] = df['Balance'].apply(np.float64)\n"
   ]
  },
  {
   "cell_type": "markdown",
   "metadata": {},
   "source": [
    "# Credit/Debit"
   ]
  },
  {
   "cell_type": "code",
   "execution_count": null,
   "metadata": {},
   "outputs": [],
   "source": [
    "df_new=df.filter(['Date','Description','Balance'])"
   ]
  },
  {
   "cell_type": "code",
   "execution_count": null,
   "metadata": {},
   "outputs": [],
   "source": [
    "df_new[\"Transaction Type\"]=\"Credit\"\n",
    "df_new[\"Transaction Amount\"]=0"
   ]
  },
  {
   "cell_type": "code",
   "execution_count": null,
   "metadata": {},
   "outputs": [],
   "source": [
    "credit=0\n",
    "debit=0"
   ]
  },
  {
   "cell_type": "code",
   "execution_count": null,
   "metadata": {},
   "outputs": [],
   "source": [
    "df_new.loc[6]"
   ]
  },
  {
   "cell_type": "code",
   "execution_count": null,
   "metadata": {},
   "outputs": [],
   "source": [
    "for index,row in df_new.iterrows():\n",
    "    if index>0:\n",
    "        if row['Balance']<df_new.loc[index-1,'Balance']:\n",
    "            debited_amount=df.loc[index-1,'Balance']-row['Balance']\n",
    "            df_new.loc[index,\"Transaction Type\"]=\"Debit\"\n",
    "            df_new.loc[index,\"Transaction Amount\"]=debited_amount\n",
    "        elif row['Balance']>df_new.loc[index-1,'Balance']:\n",
    "            credited_amount=row['Balance']-df.loc[index-1,'Balance']\n",
    "            df_new.loc[index,\"Transaction Type\"]=\"Credit\"\n",
    "            df_new.loc[index,\"Transaction Amount\"]=credited_amount\n"
   ]
  },
  {
   "cell_type": "code",
   "execution_count": null,
   "metadata": {},
   "outputs": [],
   "source": [
    "df_new"
   ]
  },
  {
   "cell_type": "code",
   "execution_count": null,
   "metadata": {},
   "outputs": [],
   "source": [
    "df_new.where(df_new[\"Transaction Type\"]==\"Credit\")"
   ]
  },
  {
   "cell_type": "code",
   "execution_count": null,
   "metadata": {},
   "outputs": [],
   "source": [
    "total_credited_amount=df_new.loc[df_new[\"Transaction Type\"]==\"Credit\",\"Transaction Amount\"].sum()"
   ]
  },
  {
   "cell_type": "code",
   "execution_count": null,
   "metadata": {},
   "outputs": [],
   "source": [
    "total_debited_amount=df_new.loc[df_new[\"Transaction Type\"]==\"Debit\",\"Transaction Amount\"].sum()"
   ]
  },
  {
   "cell_type": "markdown",
   "metadata": {},
   "source": [
    "# Date MAB"
   ]
  },
  {
   "cell_type": "code",
   "execution_count": null,
   "metadata": {},
   "outputs": [],
   "source": [
    "from datetime import datetime"
   ]
  },
  {
   "cell_type": "code",
   "execution_count": null,
   "metadata": {},
   "outputs": [],
   "source": [
    "df['date'] = df['Date'].apply(lambda x: datetime.strptime(x, \"%d/%m/%y\").date())\n"
   ]
  },
  {
   "cell_type": "code",
   "execution_count": null,
   "metadata": {},
   "outputs": [],
   "source": [
    "type(df['date'][1])"
   ]
  },
  {
   "cell_type": "code",
   "execution_count": null,
   "metadata": {},
   "outputs": [],
   "source": [
    "df[[\"year\", \"month\", \"day\"]] = df[\"date\"].apply(str).str.split(\"-\", expand=True)\n",
    "agg_date = df.groupby(['year','month','day']).nth(-1)"
   ]
  },
  {
   "cell_type": "code",
   "execution_count": null,
   "metadata": {},
   "outputs": [],
   "source": [
    "df_new=agg_date.filter(['date','Balance'])"
   ]
  },
  {
   "cell_type": "code",
   "execution_count": null,
   "metadata": {},
   "outputs": [],
   "source": [
    "all_days = pd.date_range(df_new.date.min(), df_new.date.max(), freq='D')"
   ]
  },
  {
   "cell_type": "code",
   "execution_count": null,
   "metadata": {},
   "outputs": [],
   "source": [
    "df_date=df_new.set_index('date').reindex(all_days).fillna(method='ffill').rename_axis('date').reset_index()"
   ]
  },
  {
   "cell_type": "code",
   "execution_count": null,
   "metadata": {},
   "outputs": [],
   "source": [
    "df_date.to_excel('file.xlsx')"
   ]
  },
  {
   "cell_type": "code",
   "execution_count": null,
   "metadata": {},
   "outputs": [],
   "source": [
    "df_date"
   ]
  },
  {
   "cell_type": "code",
   "execution_count": null,
   "metadata": {},
   "outputs": [],
   "source": [
    "df_date[[\"year\", \"month\", \"day\"]] = df_date[\"date\"].apply(str).str.split(\"-\", expand=True)\n",
    "agg_date = df_date.groupby(['year','month'])['Balance'].mean()"
   ]
  },
  {
   "cell_type": "code",
   "execution_count": null,
   "metadata": {},
   "outputs": [],
   "source": [
    "agg_date"
   ]
  },
  {
   "cell_type": "markdown",
   "metadata": {},
   "source": [
    "# transaction type"
   ]
  },
  {
   "cell_type": "code",
   "execution_count": 21,
   "metadata": {},
   "outputs": [],
   "source": [
    "salary='sal|salary'\n",
    "payment_gateway=\"abps|ecom|paytm|RAZPRAZORPAYSOFTWARE|billdesk|gpay\"\n",
    "auto_debit=\"nach|ach|emi|ecs|msi\"\n",
    "bank_charges=\"DEBIT CARD ANNUAL FEE|SMS CHARGES|INSPECTION CHGS|GST|DOCUMENTATION CHARGE|PROCESSING FEE|Charges|CHEQUE BOOK ISSUE CHARGES|CHRGS|RTN CHQ CHGS|tbms|AMB CHRG|debit interest captialised\"\n",
    "atm=\"atm|atw|cash|atm csw|nwd|owd|cwdr|ats|eaw|nfs|awb|vat|mat\"\n",
    "cheque=\"by clearing|by cheque|clg\"\n",
    "net_banking=\"neft|tpt|rtgs|imps|utr|rtgs|TO TRANSFER|OFT|TPFT\"\n",
    "card_transactions=\"pos|POSTXN|PRCR|medr|vps|prcr|pcd\"\n",
    "bank_credit='credit|credit interest captialised'\n",
    "bill_pay='bpay|bil|billpay'\n",
    "loan='disburse'\n",
    "demand_draft='dd/cc|dd'"
   ]
  },
  {
   "cell_type": "code",
   "execution_count": 6,
   "metadata": {},
   "outputs": [],
   "source": [
    "df_new=df.filter(['Date','Description','Balance'])"
   ]
  },
  {
   "cell_type": "code",
   "execution_count": 7,
   "metadata": {},
   "outputs": [],
   "source": [
    "df_new['Transaction Type']=\"Others\""
   ]
  },
  {
   "cell_type": "code",
   "execution_count": 8,
   "metadata": {},
   "outputs": [],
   "source": [
    "df_new['Description']=df_new['Description'].apply(lambda x:re.sub('[^a-zA-Z]',' ',x))"
   ]
  },
  {
   "cell_type": "code",
   "execution_count": 22,
   "metadata": {},
   "outputs": [],
   "source": [
    "df_new.loc[df_new['Description'].str.contains(salary,flags=re.IGNORECASE)==True,'Transaction Type']='Salary'\n",
    "df_new.loc[df_new['Description'].str.contains(payment_gateway,flags=re.IGNORECASE)==True,'Transaction Type']='Payment Gateway'\n",
    "df_new.loc[df_new['Description'].str.contains(auto_debit,flags=re.IGNORECASE)==True,'Transaction Type']='Auto Debit'\n",
    "df_new.loc[df_new['Description'].str.contains(atm,flags=re.IGNORECASE)==True,'Transaction Type']='ATM'\n",
    "df_new.loc[df_new['Description'].str.contains(cheque,flags=re.IGNORECASE)==True,'Transaction Type']='Cheque Transaction'\n",
    "df_new.loc[df_new['Description'].str.contains(net_banking,flags=re.IGNORECASE)==True,'Transaction Type']='Net Banking'\n",
    "df_new.loc[df_new['Description'].str.contains(card_transactions,flags=re.IGNORECASE)==True,'Transaction Type']='Card Transactions'\n",
    "df_new.loc[df_new['Description'].str.contains(bank_charges,flags=re.IGNORECASE)==True,'Transaction Type']='Bank Charges'\n",
    "df_new.loc[df_new['Description'].str.contains(bank_credit,flags=re.IGNORECASE)==True,'Transaction Type']='Bank Credit'\n",
    "df_new.loc[df_new['Description'].str.contains(bill_pay,flags=re.IGNORECASE)==True,'Transaction Type']='Bill Pay'\n",
    "df_new.loc[df_new['Description'].str.contains(loan,flags=re.IGNORECASE)==True,'Transaction Type']='Loan'\n"
   ]
  },
  {
   "cell_type": "code",
   "execution_count": 23,
   "metadata": {},
   "outputs": [],
   "source": [
    "df_new.to_excel('Transaction Type.xlsx',engine='xlsxwriter')"
   ]
  },
  {
   "cell_type": "code",
   "execution_count": null,
   "metadata": {},
   "outputs": [],
   "source": []
  }
 ],
 "metadata": {
  "kernelspec": {
   "display_name": "Python 3",
   "language": "python",
   "name": "python3"
  },
  "language_info": {
   "codemirror_mode": {
    "name": "ipython",
    "version": 3
   },
   "file_extension": ".py",
   "mimetype": "text/x-python",
   "name": "python",
   "nbconvert_exporter": "python",
   "pygments_lexer": "ipython3",
   "version": "3.6.12"
  }
 },
 "nbformat": 4,
 "nbformat_minor": 2
}